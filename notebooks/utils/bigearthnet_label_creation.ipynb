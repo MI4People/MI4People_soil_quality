{
 "cells": [
  {
   "cell_type": "markdown",
   "metadata": {},
   "source": [
    "# Label Extraction of BigEarthNet-v1.0 Dataset\n",
    "This notebook creates a pickle file which contains all labels of the BigEarthNet-v1.0 (BEN) dataset in a dict format. To do so, the image label JSON files of the first 50k image bucket folders on AWS are loaded. (Note: The assumption is that those first 50k image bucket folders are sufficient to capture all labels contained in the dataset.) Next, the labels are extracted and saved in a local Pickle file called `ben_labels`.\n",
    "\n",
    "It is sufficient to run this notebook only once to extract the labels to the Pickle file as the Pickle file `ben_labels` is stored in the repo as well. The file can be read via `src.globals.LABELS_TO_INDS`, so you should not need to run this here. "
   ]
  },
  {
   "cell_type": "markdown",
   "metadata": {},
   "source": [
    "#### Prerequisites\n",
    "To run the notebook, you need to have stored your AWS credentials in the file `aws_credentials.yaml`"
   ]
  },
  {
   "cell_type": "code",
   "execution_count": 1,
   "metadata": {},
   "outputs": [
    {
     "name": "stderr",
     "output_type": "stream",
     "text": [
      "c:\\Users\\tanja\\PycharmProjects\\mi4people-soil-quality\\src\\globals.py:21: UserWarning: If you want to make use of global variable LABELS_TO_INDS containing all labels for the BigEarthNet (BEN) dataset, you need to execute the notebook `bigearthnet_label_creation.ipnyb` first.\n",
      "  warnings.warn(\"If you want to make use of global variable LABELS_TO_INDS containing all labels for the BigEarthNet (BEN) dataset, you need to execute the notebook `bigearthnet_label_creation.ipnyb` first.\")\n"
     ]
    }
   ],
   "source": [
    "# You only need to run this code snippet if your credentials are not set within your environment yet\n",
    "from src.infrastructure.aws_infrastructure import get_aws_credentials, set_s3_credentials\n",
    "\n",
    "aws_credentials = get_aws_credentials()\n",
    "set_s3_credentials(aws_credentials)"
   ]
  },
  {
   "cell_type": "code",
   "execution_count": 2,
   "metadata": {},
   "outputs": [
    {
     "name": "stdout",
     "output_type": "stream",
     "text": [
      "Length:  590326\n",
      "First folder name:  s3://mi4people-soil-project/BigEarthNet-v1.0/S2A_MSIL2A_20170613T101031_0_45\n"
     ]
    }
   ],
   "source": [
    "import src.data.general_datapipes as pipes\n",
    "\n",
    "# Get a list with all image folder names in s3 \n",
    "folder_list = list(pipes.get_s3_folder_content())\n",
    "print(\"Length: \", len(folder_list))\n",
    "print(\"First folder name: \", folder_list[0])"
   ]
  },
  {
   "cell_type": "code",
   "execution_count": 3,
   "metadata": {},
   "outputs": [
    {
     "name": "stderr",
     "output_type": "stream",
     "text": [
      "c:\\Users\\tanja\\Anaconda3\\envs\\soil_quality\\Lib\\site-packages\\torch\\utils\\data\\datapipes\\utils\\common.py:145: UserWarning: Lambda function is not supported by pickle, please use regular python function or functools.partial instead.\n",
      "  warnings.warn(\n",
      "50000it [4:00:51,  3.46it/s]\n"
     ]
    },
    {
     "name": "stdout",
     "output_type": "stream",
     "text": [
      "Counter({'Non-irrigated arable land': 17032, 'Mixed forest': 15176, 'Coniferous forest': 14565, 'Pastures': 14279, 'Transitional woodland/shrub': 11723, 'Broad-leaved forest': 9197, 'Land principally occupied by agriculture, with significant areas of natural vegetation': 9085, 'Sea and ocean': 8707, 'Complex cultivation patterns': 6348, 'Discontinuous urban fabric': 5999, 'Water bodies': 4428, 'Agro-forestry areas': 3123, 'Permanently irrigated land': 2052, 'Peatbogs': 1945, 'Olive groves': 1704, 'Industrial or commercial units': 1390, 'Water courses': 1210, 'Moors and heathland': 1171, 'Vineyards': 832, 'Sport and leisure facilities': 798, 'Annual crops associated with permanent crops': 779, 'Rice fields': 741, 'Inland marshes': 597, 'Sclerophyllous vegetation': 554, 'Road and rail networks and associated land': 532, 'Mineral extraction sites': 506, 'Natural grassland': 443, 'Continuous urban fabric': 332, 'Estuaries': 280, 'Beaches, dunes, sands': 270, 'Intertidal flats': 243, 'Salt marshes': 235, 'Fruit trees and berry plantations': 230, 'Green urban areas': 186, 'Construction sites': 152, 'Coastal lagoons': 149, 'Dump sites': 99, 'Sparsely vegetated areas': 88, 'Airports': 87, 'Port areas': 77, 'Salines': 71, 'Burnt areas': 55, 'Bare rock': 10})\n",
      "['Agro-forestry areas', 'Airports', 'Annual crops associated with permanent crops', 'Bare rock', 'Beaches, dunes, sands', 'Broad-leaved forest', 'Burnt areas', 'Coastal lagoons', 'Complex cultivation patterns', 'Coniferous forest', 'Construction sites', 'Continuous urban fabric', 'Discontinuous urban fabric', 'Dump sites', 'Estuaries', 'Fruit trees and berry plantations', 'Green urban areas', 'Industrial or commercial units', 'Inland marshes', 'Intertidal flats', 'Land principally occupied by agriculture, with significant areas of natural vegetation', 'Mineral extraction sites', 'Mixed forest', 'Moors and heathland', 'Natural grassland', 'Non-irrigated arable land', 'Olive groves', 'Pastures', 'Peatbogs', 'Permanently irrigated land', 'Port areas', 'Rice fields', 'Road and rail networks and associated land', 'Salines', 'Salt marshes', 'Sclerophyllous vegetation', 'Sea and ocean', 'Sparsely vegetated areas', 'Sport and leisure facilities', 'Transitional woodland/shrub', 'Vineyards', 'Water bodies', 'Water courses']\n",
      "{0: 'Agro-forestry areas', 1: 'Airports', 2: 'Annual crops associated with permanent crops', 3: 'Bare rock', 4: 'Beaches, dunes, sands', 5: 'Broad-leaved forest', 6: 'Burnt areas', 7: 'Coastal lagoons', 8: 'Complex cultivation patterns', 9: 'Coniferous forest', 10: 'Construction sites', 11: 'Continuous urban fabric', 12: 'Discontinuous urban fabric', 13: 'Dump sites', 14: 'Estuaries', 15: 'Fruit trees and berry plantations', 16: 'Green urban areas', 17: 'Industrial or commercial units', 18: 'Inland marshes', 19: 'Intertidal flats', 20: 'Land principally occupied by agriculture, with significant areas of natural vegetation', 21: 'Mineral extraction sites', 22: 'Mixed forest', 23: 'Moors and heathland', 24: 'Natural grassland', 25: 'Non-irrigated arable land', 26: 'Olive groves', 27: 'Pastures', 28: 'Peatbogs', 29: 'Permanently irrigated land', 30: 'Port areas', 31: 'Rice fields', 32: 'Road and rail networks and associated land', 33: 'Salines', 34: 'Salt marshes', 35: 'Sclerophyllous vegetation', 36: 'Sea and ocean', 37: 'Sparsely vegetated areas', 38: 'Sport and leisure facilities', 39: 'Transitional woodland/shrub', 40: 'Vineyards', 41: 'Water bodies', 42: 'Water courses'}\n"
     ]
    },
    {
     "ename": "FileNotFoundError",
     "evalue": "[Errno 2] No such file or directory: 'c:\\\\data\\\\01_raw\\\\ben_labels.pickle'",
     "output_type": "error",
     "traceback": [
      "\u001b[1;31m---------------------------------------------------------------------------\u001b[0m",
      "\u001b[1;31mFileNotFoundError\u001b[0m                         Traceback (most recent call last)",
      "\u001b[1;32mc:\\Users\\tanja\\PycharmProjects\\mi4people-soil-quality\\notebooks\\utils\\bigearthnet_label_creation.ipynb Cell 5\u001b[0m line \u001b[0;36m3\n\u001b[0;32m     <a href='vscode-notebook-cell:/c%3A/Users/tanja/PycharmProjects/mi4people-soil-quality/notebooks/utils/bigearthnet_label_creation.ipynb#W4sZmlsZQ%3D%3D?line=35'>36</a>\u001b[0m \u001b[39mprint\u001b[39m(classes_to_ind)\n\u001b[0;32m     <a href='vscode-notebook-cell:/c%3A/Users/tanja/PycharmProjects/mi4people-soil-quality/notebooks/utils/bigearthnet_label_creation.ipynb#W4sZmlsZQ%3D%3D?line=37'>38</a>\u001b[0m \u001b[39m# Save dict as pickle file in data folder of this project\u001b[39;00m\n\u001b[1;32m---> <a href='vscode-notebook-cell:/c%3A/Users/tanja/PycharmProjects/mi4people-soil-quality/notebooks/utils/bigearthnet_label_creation.ipynb#W4sZmlsZQ%3D%3D?line=38'>39</a>\u001b[0m \u001b[39mwith\u001b[39;00m \u001b[39mopen\u001b[39;49m(Path(PROJECT_DIR, \u001b[39m\"\u001b[39;49m\u001b[39m/data/01_raw/ben_labels.pickle\u001b[39;49m\u001b[39m\"\u001b[39;49m), \u001b[39m\"\u001b[39;49m\u001b[39mwb\u001b[39;49m\u001b[39m\"\u001b[39;49m) \u001b[39mas\u001b[39;00m p_out:\n\u001b[0;32m     <a href='vscode-notebook-cell:/c%3A/Users/tanja/PycharmProjects/mi4people-soil-quality/notebooks/utils/bigearthnet_label_creation.ipynb#W4sZmlsZQ%3D%3D?line=39'>40</a>\u001b[0m     pickle\u001b[39m.\u001b[39mdump(classes_to_ind, p_out)\n",
      "File \u001b[1;32mc:\\Users\\tanja\\Anaconda3\\envs\\soil_quality\\Lib\\site-packages\\IPython\\core\\interactiveshell.py:286\u001b[0m, in \u001b[0;36m_modified_open\u001b[1;34m(file, *args, **kwargs)\u001b[0m\n\u001b[0;32m    279\u001b[0m \u001b[39mif\u001b[39;00m file \u001b[39min\u001b[39;00m {\u001b[39m0\u001b[39m, \u001b[39m1\u001b[39m, \u001b[39m2\u001b[39m}:\n\u001b[0;32m    280\u001b[0m     \u001b[39mraise\u001b[39;00m \u001b[39mValueError\u001b[39;00m(\n\u001b[0;32m    281\u001b[0m         \u001b[39mf\u001b[39m\u001b[39m\"\u001b[39m\u001b[39mIPython won\u001b[39m\u001b[39m'\u001b[39m\u001b[39mt let you open fd=\u001b[39m\u001b[39m{\u001b[39;00mfile\u001b[39m}\u001b[39;00m\u001b[39m by default \u001b[39m\u001b[39m\"\u001b[39m\n\u001b[0;32m    282\u001b[0m         \u001b[39m\"\u001b[39m\u001b[39mas it is likely to crash IPython. If you know what you are doing, \u001b[39m\u001b[39m\"\u001b[39m\n\u001b[0;32m    283\u001b[0m         \u001b[39m\"\u001b[39m\u001b[39myou can use builtins\u001b[39m\u001b[39m'\u001b[39m\u001b[39m open.\u001b[39m\u001b[39m\"\u001b[39m\n\u001b[0;32m    284\u001b[0m     )\n\u001b[1;32m--> 286\u001b[0m \u001b[39mreturn\u001b[39;00m io_open(file, \u001b[39m*\u001b[39;49margs, \u001b[39m*\u001b[39;49m\u001b[39m*\u001b[39;49mkwargs)\n",
      "\u001b[1;31mFileNotFoundError\u001b[0m: [Errno 2] No such file or directory: 'c:\\\\data\\\\01_raw\\\\ben_labels.pickle'"
     ]
    }
   ],
   "source": [
    "import tqdm\n",
    "import json\n",
    "import pickle\n",
    "import fsspec\n",
    "from pathlib import Path\n",
    "\n",
    "import torchdata.datapipes as dp\n",
    "\n",
    "import src.data.bigearthnet_datapipes as ben_pipes\n",
    "from src.globals import PROJECT_DIR\n",
    "\n",
    "# Iterate through first 50000 image folders (Assumption is that this will catch all different BigEarthNet Labels)\n",
    "pipe = dp.iter.IterableWrapper(folder_list[:50000])\n",
    "# Check subfolders\n",
    "pipe = pipe.list_files_by_fsspec()\n",
    "pipe = pipe.groupby(group_key_fn=ben_pipes.group_key_by_folder, group_size=13)\n",
    "pipe = pipe.map(ben_pipes.chunk_to_dataloader_dict)\n",
    "pipe = pipe.map(lambda x: x[\"label\"])\n",
    "pipe = pipe.map(lambda x: json.loads(fsspec.open(x, mode=\"r\").open().read())[\"labels\"])\n",
    "\n",
    "classes = list()\n",
    "for js in tqdm.tqdm(pipe):\n",
    "    for label in js:\n",
    "        classes.append(label)\n",
    "\n",
    "from collections import Counter\n",
    "\n",
    "counter = Counter(classes)\n",
    "# Classes sorted alphabetically\n",
    "classes = sorted(set(classes))\n",
    "\n",
    "classes_to_ind = {i: cls for (i, cls) in enumerate(classes)}\n",
    "\n",
    "print(counter)\n",
    "print(classes)\n",
    "print(classes_to_ind)\n",
    "\n",
    "# Save dict as pickle file in data folder of this project\n",
    "with open(\"C:/Users/tanja/PycharmProjects/mi4people-soil-quality/data/00_prerequisites/ben_labels.pickle\", \"wb\") as p_out:\n",
    "    pickle.dump(classes_to_ind, p_out)"
   ]
  }
 ],
 "metadata": {
  "kernelspec": {
   "display_name": "soil_quality",
   "language": "python",
   "name": "python3"
  },
  "language_info": {
   "codemirror_mode": {
    "name": "ipython",
    "version": 3
   },
   "file_extension": ".py",
   "mimetype": "text/x-python",
   "name": "python",
   "nbconvert_exporter": "python",
   "pygments_lexer": "ipython3",
   "version": "3.11.4"
  },
  "orig_nbformat": 4
 },
 "nbformat": 4,
 "nbformat_minor": 2
}
