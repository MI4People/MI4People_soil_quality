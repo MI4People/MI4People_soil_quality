{
 "cells": [
  {
   "cell_type": "code",
   "execution_count": 1,
   "id": "58b5790a",
   "metadata": {},
   "outputs": [
    {
     "name": "stderr",
     "output_type": "stream",
     "text": [
      "2022/10/17 16:56:15 WARNING mlflow.utils.autologging_utils: You are using an unsupported version of sklearn. If you encounter errors during autologging, try upgrading / downgrading sklearn to a supported version, or try upgrading MLflow.\n"
     ]
    },
    {
     "name": "stdout",
     "output_type": "stream",
     "text": [
      "An experiment with that name already exists, logging new run into it.\n"
     ]
    },
    {
     "name": "stderr",
     "output_type": "stream",
     "text": [
      "2022/10/17 16:56:16 INFO mlflow.utils.autologging_utils: Created MLflow autologging run with ID '9e77dd5c0e15438d996e52b73713691d', which will track hyperparameters, performance metrics, model artifacts, and lineage information for the current sklearn workflow\n",
      "2022/10/17 16:56:19 WARNING mlflow.utils.autologging_utils: MLflow autologging encountered a warning: \"c:\\Users\\Philip\\anaconda3\\envs\\mi4\\lib\\site-packages\\_distutils_hack\\__init__.py:30: UserWarning: Setuptools is replacing distutils.\"\n"
     ]
    }
   ],
   "source": [
    "import numpy as np\n",
    "import pandas as pd\n",
    "from sklearn.model_selection import train_test_split\n",
    "from sklearn.metrics import mean_squared_error\n",
    "from sklearn.linear_model import LinearRegression\n",
    "\n",
    "import src.models.mlflow_logging as ml_logging\n",
    "\n",
    "ml_logging.start_auto_logging(\"test_logging_local\", \"sklearn\")\n",
    "\n",
    "\n",
    "# Random model\n",
    "X = np.linspace(0, 1, 11)\n",
    "y = X * 2\n",
    "X = np.array([[x] for x in X])\n",
    "y = np.array([[i] for i in y])\n",
    "\n",
    "model = LinearRegression()\n",
    "X_train, X_test, y_train, y_test = train_test_split(\n",
    "    X, y, test_size=0.3, random_state=42\n",
    ")\n",
    "model.fit(X_train, y_train)\n",
    "y_pred = model.predict(X_test)\n",
    "mse = float(sum([np.sqrt((i - j) ** 2) for i, j in zip(y_pred, y_test)]))"
   ]
  }
 ],
 "metadata": {
  "kernelspec": {
   "display_name": "Python 3.10.4 ('mi4')",
   "language": "python",
   "name": "python3"
  },
  "language_info": {
   "codemirror_mode": {
    "name": "ipython",
    "version": 3
   },
   "file_extension": ".py",
   "mimetype": "text/x-python",
   "name": "python",
   "nbconvert_exporter": "python",
   "pygments_lexer": "ipython3",
   "version": "3.10.4"
  },
  "vscode": {
   "interpreter": {
    "hash": "7dcf6f0f3d6451fd6b65c3a3dbdc0d32837fa77437fab6896a02635117e29a5f"
   }
  }
 },
 "nbformat": 4,
 "nbformat_minor": 5
}
