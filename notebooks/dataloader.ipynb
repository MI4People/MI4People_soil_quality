{
 "cells": [
  {
   "cell_type": "code",
   "execution_count": 1,
   "metadata": {},
   "outputs": [
    {
     "name": "stderr",
     "output_type": "stream",
     "text": [
      "/home/philip/miniconda3/envs/mi4p/lib/python3.10/site-packages/tqdm/auto.py:22: TqdmWarning: IProgress not found. Please update jupyter and ipywidgets. See https://ipywidgets.readthedocs.io/en/stable/user_install.html\n",
      "  from .autonotebook import tqdm as notebook_tqdm\n"
     ]
    }
   ],
   "source": [
    "import boto3\n",
    "import botocore\n",
    "import torchdata.datapipes as dp\n",
    "from pathlib import Path\n",
    "import shutil\n",
    "from src.globals import DATA_DIR\n",
    "import scipy\n",
    "import skimage\n",
    "import tifffile\n",
    "from joblib import Parallel, delayed\n",
    "import os\n",
    "import json\n",
    "import pandas as pd\n",
    "import tqdm"
   ]
  },
  {
   "cell_type": "code",
   "execution_count": 2,
   "metadata": {},
   "outputs": [
    {
     "name": "stderr",
     "output_type": "stream",
     "text": [
      "100%|██████████| 590326/590326 [02:10<00:00, 4511.16it/s]\n"
     ]
    }
   ],
   "source": [
    "df = pd.DataFrame()\n",
    "l = []\n",
    "for j in tqdm.tqdm(\n",
    "    os.listdir(\n",
    "        \"/home/philip/Projects/MI4People/MI4People_soil_quality/data/raw/bigearth_labels\"\n",
    "    )\n",
    "):\n",
    "    with open(\n",
    "        os.path.join(\n",
    "            \"/home/philip/Projects/MI4People/MI4People_soil_quality/data/raw/bigearth_labels\",\n",
    "            j,\n",
    "        ),\n",
    "        \"r\",\n",
    "    ) as f:\n",
    "        json_content = json.load(f)\n",
    "        # print(json_content)\n",
    "        l.append(json_content)\n",
    "    # break"
   ]
  },
  {
   "cell_type": "code",
   "execution_count": 9,
   "metadata": {},
   "outputs": [],
   "source": [
    "df = pd.DataFrame(l)\n",
    "df[[\"ulx\", \"uly\", \"lrx\", \"lry\"]] = pd.json_normalize(df[\"coordinates\"])"
   ]
  },
  {
   "cell_type": "code",
   "execution_count": 4,
   "metadata": {},
   "outputs": [
    {
     "data": {
      "text/html": [
       "<div>\n",
       "<style scoped>\n",
       "    .dataframe tbody tr th:only-of-type {\n",
       "        vertical-align: middle;\n",
       "    }\n",
       "\n",
       "    .dataframe tbody tr th {\n",
       "        vertical-align: top;\n",
       "    }\n",
       "\n",
       "    .dataframe thead th {\n",
       "        text-align: right;\n",
       "    }\n",
       "</style>\n",
       "<table border=\"1\" class=\"dataframe\">\n",
       "  <thead>\n",
       "    <tr style=\"text-align: right;\">\n",
       "      <th></th>\n",
       "      <th>labels</th>\n",
       "      <th>coordinates</th>\n",
       "      <th>projection</th>\n",
       "      <th>tile_source</th>\n",
       "      <th>acquisition_date</th>\n",
       "      <th>ulx</th>\n",
       "      <th>uly</th>\n",
       "      <th>lrx</th>\n",
       "      <th>lry</th>\n",
       "    </tr>\n",
       "  </thead>\n",
       "  <tbody>\n",
       "    <tr>\n",
       "      <th>0</th>\n",
       "      <td>[Coniferous forest, Mixed forest, Transitional...</td>\n",
       "      <td>{'ulx': 619200, 'uly': 7330440, 'lrx': 620400,...</td>\n",
       "      <td>PROJCS[\"WGS 84 / UTM zone 35N\",GEOGCS[\"WGS 84\"...</td>\n",
       "      <td>S2A_MSIL1C_20180219T094031_N0206_R036_T35WPP_2...</td>\n",
       "      <td>2018-02-19 09:40:31</td>\n",
       "      <td>619200</td>\n",
       "      <td>7330440</td>\n",
       "      <td>620400</td>\n",
       "      <td>7329240</td>\n",
       "    </tr>\n",
       "    <tr>\n",
       "      <th>1</th>\n",
       "      <td>[Coniferous forest]</td>\n",
       "      <td>{'ulx': 532380, 'uly': 5273640, 'lrx': 533580,...</td>\n",
       "      <td>PROJCS[\"WGS 84 / UTM zone 33N\",GEOGCS[\"WGS 84\"...</td>\n",
       "      <td>S2B_MSIL1C_20180421T100029_N0206_R122_T33TWN_2...</td>\n",
       "      <td>2018-04-21 10:00:29</td>\n",
       "      <td>532380</td>\n",
       "      <td>5273640</td>\n",
       "      <td>533580</td>\n",
       "      <td>5272440</td>\n",
       "    </tr>\n",
       "    <tr>\n",
       "      <th>2</th>\n",
       "      <td>[Coniferous forest, Mixed forest]</td>\n",
       "      <td>{'ulx': 593580, 'uly': 7040040, 'lrx': 594780,...</td>\n",
       "      <td>PROJCS[\"WGS 84 / UTM zone 35N\",GEOGCS[\"WGS 84\"...</td>\n",
       "      <td>S2A_MSIL1C_20170905T095031_N0205_R079_T35VNL_2...</td>\n",
       "      <td>2017-09-05 09:50:31</td>\n",
       "      <td>593580</td>\n",
       "      <td>7040040</td>\n",
       "      <td>594780</td>\n",
       "      <td>7038840</td>\n",
       "    </tr>\n",
       "    <tr>\n",
       "      <th>3</th>\n",
       "      <td>[Non-irrigated arable land, Pastures]</td>\n",
       "      <td>{'ulx': 666000, 'uly': 5829240, 'lrx': 667200,...</td>\n",
       "      <td>PROJCS[\"WGS 84 / UTM zone 29N\",GEOGCS[\"WGS 84\"...</td>\n",
       "      <td>S2B_MSIL1C_20171112T114339_N0206_R123_T29UPU_2...</td>\n",
       "      <td>2017-11-12 11:43:39</td>\n",
       "      <td>666000</td>\n",
       "      <td>5829240</td>\n",
       "      <td>667200</td>\n",
       "      <td>5828040</td>\n",
       "    </tr>\n",
       "    <tr>\n",
       "      <th>4</th>\n",
       "      <td>[Sea and ocean]</td>\n",
       "      <td>{'ulx': 409560, 'uly': 6672420, 'lrx': 410760,...</td>\n",
       "      <td>PROJCS[\"WGS 84 / UTM zone 34N\",GEOGCS[\"WGS 84\"...</td>\n",
       "      <td>S2B_MSIL1C_20170814T100029_N0205_R122_T34VDM_2...</td>\n",
       "      <td>2017-08-14 10:00:29</td>\n",
       "      <td>409560</td>\n",
       "      <td>6672420</td>\n",
       "      <td>410760</td>\n",
       "      <td>6671220</td>\n",
       "    </tr>\n",
       "  </tbody>\n",
       "</table>\n",
       "</div>"
      ],
      "text/plain": [
       "                                              labels  \\\n",
       "0  [Coniferous forest, Mixed forest, Transitional...   \n",
       "1                                [Coniferous forest]   \n",
       "2                  [Coniferous forest, Mixed forest]   \n",
       "3              [Non-irrigated arable land, Pastures]   \n",
       "4                                    [Sea and ocean]   \n",
       "\n",
       "                                         coordinates  \\\n",
       "0  {'ulx': 619200, 'uly': 7330440, 'lrx': 620400,...   \n",
       "1  {'ulx': 532380, 'uly': 5273640, 'lrx': 533580,...   \n",
       "2  {'ulx': 593580, 'uly': 7040040, 'lrx': 594780,...   \n",
       "3  {'ulx': 666000, 'uly': 5829240, 'lrx': 667200,...   \n",
       "4  {'ulx': 409560, 'uly': 6672420, 'lrx': 410760,...   \n",
       "\n",
       "                                          projection  \\\n",
       "0  PROJCS[\"WGS 84 / UTM zone 35N\",GEOGCS[\"WGS 84\"...   \n",
       "1  PROJCS[\"WGS 84 / UTM zone 33N\",GEOGCS[\"WGS 84\"...   \n",
       "2  PROJCS[\"WGS 84 / UTM zone 35N\",GEOGCS[\"WGS 84\"...   \n",
       "3  PROJCS[\"WGS 84 / UTM zone 29N\",GEOGCS[\"WGS 84\"...   \n",
       "4  PROJCS[\"WGS 84 / UTM zone 34N\",GEOGCS[\"WGS 84\"...   \n",
       "\n",
       "                                         tile_source     acquisition_date  \\\n",
       "0  S2A_MSIL1C_20180219T094031_N0206_R036_T35WPP_2...  2018-02-19 09:40:31   \n",
       "1  S2B_MSIL1C_20180421T100029_N0206_R122_T33TWN_2...  2018-04-21 10:00:29   \n",
       "2  S2A_MSIL1C_20170905T095031_N0205_R079_T35VNL_2...  2017-09-05 09:50:31   \n",
       "3  S2B_MSIL1C_20171112T114339_N0206_R123_T29UPU_2...  2017-11-12 11:43:39   \n",
       "4  S2B_MSIL1C_20170814T100029_N0205_R122_T34VDM_2...  2017-08-14 10:00:29   \n",
       "\n",
       "      ulx      uly     lrx      lry  \n",
       "0  619200  7330440  620400  7329240  \n",
       "1  532380  5273640  533580  5272440  \n",
       "2  593580  7040040  594780  7038840  \n",
       "3  666000  5829240  667200  5828040  \n",
       "4  409560  6672420  410760  6671220  "
      ]
     },
     "execution_count": 4,
     "metadata": {},
     "output_type": "execute_result"
    }
   ],
   "source": [
    "df.head()"
   ]
  },
  {
   "cell_type": "code",
   "execution_count": 10,
   "metadata": {},
   "outputs": [],
   "source": [
    "labels = df.explode(\"labels\")[\"labels\"]"
   ]
  },
  {
   "cell_type": "code",
   "execution_count": 45,
   "metadata": {},
   "outputs": [],
   "source": [
    "ind_to_label = {i: label for (i, label) in enumerate(labels.unique())}\n",
    "label_df = pd.DataFrame.from_records([ind_to_label]).T\n",
    "# label_df = label_df.rename(columns={0: \"label\"})\n",
    "label_df.to_json(\n",
    "    \"/home/philip/Projects/MI4People/MI4People_soil_quality/data/raw/bigearth_labels.json\"\n",
    ")\n",
    "# label_to_ind = pd.DataFrame({label: i for (i, label) in ind_to_label.items()}, index=ind_to_label.keys())\n",
    "# label_to_ind.to_csv()"
   ]
  },
  {
   "cell_type": "code",
   "execution_count": 42,
   "metadata": {},
   "outputs": [],
   "source": [
    "grouped = df.groupby([\"ulx\", \"uly\", \"lrx\", \"lry\"])"
   ]
  },
  {
   "cell_type": "code",
   "execution_count": 24,
   "metadata": {},
   "outputs": [
    {
     "data": {
      "text/plain": [
       "Counter({1: 88856, 2: 46809, 4: 66056, 3: 47876})"
      ]
     },
     "execution_count": 24,
     "metadata": {},
     "output_type": "execute_result"
    }
   ],
   "source": [
    "from collections import Counter\n",
    "\n",
    "Counter(grouped.size().values)"
   ]
  }
 ],
 "metadata": {
  "kernelspec": {
   "display_name": "Python 3.10.8 ('mi4p')",
   "language": "python",
   "name": "python3"
  },
  "language_info": {
   "codemirror_mode": {
    "name": "ipython",
    "version": 3
   },
   "file_extension": ".py",
   "mimetype": "text/x-python",
   "name": "python",
   "nbconvert_exporter": "python",
   "pygments_lexer": "ipython3",
   "version": "3.10.8"
  },
  "orig_nbformat": 4,
  "vscode": {
   "interpreter": {
    "hash": "01214d19fcaa01196524860a75ee10e3cfd1c39141053fb11644c329d1a4985d"
   }
  }
 },
 "nbformat": 4,
 "nbformat_minor": 2
}
