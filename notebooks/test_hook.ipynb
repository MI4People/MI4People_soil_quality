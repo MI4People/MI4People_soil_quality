{
 "cells": [
  {
   "cell_type": "code",
   "execution_count": null,
   "metadata": {},
   "outputs": [],
   "source": [
    "def x(y):\n",
    "    this = y\n",
    "\n",
    "\n",
    "\n",
    "\n",
    "\n",
    "    return x"
   ]
  }
 ],
 "metadata": {
  "jupytext": {
   "formats": "ipynb,py"
  },
  "kernelspec": {
   "display_name": "Python 3.9.12 ('mi4')",
   "language": "python",
   "name": "python3"
  },
  "language_info": {
   "name": "python",
   "version": "3.9.12"
  },
  "vscode": {
   "interpreter": {
    "hash": "7dcf6f0f3d6451fd6b65c3a3dbdc0d32837fa77437fab6896a02635117e29a5f"
   }
  }
 },
 "nbformat": 4,
 "nbformat_minor": 2
}
