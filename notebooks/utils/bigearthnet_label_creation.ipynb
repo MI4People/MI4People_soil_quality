{
 "cells": [
  {
   "cell_type": "code",
   "execution_count": 2,
   "metadata": {},
   "outputs": [],
   "source": [
    "import src.data.bigearthnet_datapipes as ben_pipes\n",
    "import src.data.general_datapipes as pipes\n",
    "import fsspec\n",
    "import json"
   ]
  },
  {
   "attachments": {},
   "cell_type": "markdown",
   "metadata": {},
   "source": [
    "This file creates a pickle file containing a dict of labels for the bigerathnet dataset. The file is in the repo too and is red by globals.LABELS_TO_INDS, so you should not need to run this here. "
   ]
  },
  {
   "cell_type": "code",
   "execution_count": 3,
   "metadata": {},
   "outputs": [],
   "source": [
    "file_list = list(pipes.get_s3_folder_content())"
   ]
  },
  {
   "cell_type": "code",
   "execution_count": 9,
   "metadata": {},
   "outputs": [
    {
     "name": "stderr",
     "output_type": "stream",
     "text": [
      "50000it [2:14:23,  6.20it/s]\n"
     ]
    },
    {
     "name": "stdout",
     "output_type": "stream",
     "text": [
      "Counter({'Non-irrigated arable land': 17032, 'Mixed forest': 15176, 'Coniferous forest': 14565, 'Pastures': 14279, 'Transitional woodland/shrub': 11723, 'Broad-leaved forest': 9197, 'Land principally occupied by agriculture, with significant areas of natural vegetation': 9085, 'Sea and ocean': 8707, 'Complex cultivation patterns': 6348, 'Discontinuous urban fabric': 5999, 'Water bodies': 4428, 'Agro-forestry areas': 3123, 'Permanently irrigated land': 2052, 'Peatbogs': 1945, 'Olive groves': 1704, 'Industrial or commercial units': 1390, 'Water courses': 1210, 'Moors and heathland': 1171, 'Vineyards': 832, 'Sport and leisure facilities': 798, 'Annual crops associated with permanent crops': 779, 'Rice fields': 741, 'Inland marshes': 597, 'Sclerophyllous vegetation': 554, 'Road and rail networks and associated land': 532, 'Mineral extraction sites': 506, 'Natural grassland': 443, 'Continuous urban fabric': 332, 'Estuaries': 280, 'Beaches, dunes, sands': 270, 'Intertidal flats': 243, 'Salt marshes': 235, 'Fruit trees and berry plantations': 230, 'Green urban areas': 186, 'Construction sites': 152, 'Coastal lagoons': 149, 'Dump sites': 99, 'Sparsely vegetated areas': 88, 'Airports': 87, 'Port areas': 77, 'Salines': 71, 'Burnt areas': 55, 'Bare rock': 10})\n",
      "['Agro-forestry areas', 'Airports', 'Annual crops associated with permanent crops', 'Bare rock', 'Beaches, dunes, sands', 'Broad-leaved forest', 'Burnt areas', 'Coastal lagoons', 'Complex cultivation patterns', 'Coniferous forest', 'Construction sites', 'Continuous urban fabric', 'Discontinuous urban fabric', 'Dump sites', 'Estuaries', 'Fruit trees and berry plantations', 'Green urban areas', 'Industrial or commercial units', 'Inland marshes', 'Intertidal flats', 'Land principally occupied by agriculture, with significant areas of natural vegetation', 'Mineral extraction sites', 'Mixed forest', 'Moors and heathland', 'Natural grassland', 'Non-irrigated arable land', 'Olive groves', 'Pastures', 'Peatbogs', 'Permanently irrigated land', 'Port areas', 'Rice fields', 'Road and rail networks and associated land', 'Salines', 'Salt marshes', 'Sclerophyllous vegetation', 'Sea and ocean', 'Sparsely vegetated areas', 'Sport and leisure facilities', 'Transitional woodland/shrub', 'Vineyards', 'Water bodies', 'Water courses']\n",
      "{0: 'Agro-forestry areas', 1: 'Airports', 2: 'Annual crops associated with permanent crops', 3: 'Bare rock', 4: 'Beaches, dunes, sands', 5: 'Broad-leaved forest', 6: 'Burnt areas', 7: 'Coastal lagoons', 8: 'Complex cultivation patterns', 9: 'Coniferous forest', 10: 'Construction sites', 11: 'Continuous urban fabric', 12: 'Discontinuous urban fabric', 13: 'Dump sites', 14: 'Estuaries', 15: 'Fruit trees and berry plantations', 16: 'Green urban areas', 17: 'Industrial or commercial units', 18: 'Inland marshes', 19: 'Intertidal flats', 20: 'Land principally occupied by agriculture, with significant areas of natural vegetation', 21: 'Mineral extraction sites', 22: 'Mixed forest', 23: 'Moors and heathland', 24: 'Natural grassland', 25: 'Non-irrigated arable land', 26: 'Olive groves', 27: 'Pastures', 28: 'Peatbogs', 29: 'Permanently irrigated land', 30: 'Port areas', 31: 'Rice fields', 32: 'Road and rail networks and associated land', 33: 'Salines', 34: 'Salt marshes', 35: 'Sclerophyllous vegetation', 36: 'Sea and ocean', 37: 'Sparsely vegetated areas', 38: 'Sport and leisure facilities', 39: 'Transitional woodland/shrub', 40: 'Vineyards', 41: 'Water bodies', 42: 'Water courses'}\n"
     ]
    }
   ],
   "source": [
    "import torchdata.datapipes as dp\n",
    "import tqdm\n",
    "import pickle\n",
    "\n",
    "pipe = dp.iter.IterableWrapper(file_list[:50000])\n",
    "pipe = pipe.list_files_by_fsspec()\n",
    "pipe = pipe.groupby(group_key_fn=ben_pipes.group_key_by_folder, group_size=13)\n",
    "pipe = pipe.map(ben_pipes.chunk_to_dataloader_dict)\n",
    "pipe = pipe.map(lambda x: x[\"label\"])\n",
    "pipe = pipe.map(lambda x: json.loads(fsspec.open(x, mode=\"r\").open().read())[\"labels\"])\n",
    "\n",
    "classes = list()\n",
    "for js in tqdm.tqdm(pipe):\n",
    "    for label in js:\n",
    "        classes.append(label)\n",
    "\n",
    "from collections import Counter\n",
    "\n",
    "counter = Counter(classes)\n",
    "\n",
    "classes = sorted(set(classes))\n",
    "\n",
    "classes_to_ind = {i: cls for (i, cls) in enumerate(classes)}\n",
    "\n",
    "print(counter)\n",
    "print(classes)\n",
    "print(classes_to_ind)\n",
    "\n",
    "with open(\"/home/pfuerste/Projects/MI4People_soil_quality/data/raw/ben_labels\", \"wb\") as p_out:\n",
    "    pickle.dump(classes_to_ind, p_out)"
   ]
  }
 ],
 "metadata": {
  "kernelspec": {
   "display_name": "mi4",
   "language": "python",
   "name": "python3"
  },
  "language_info": {
   "codemirror_mode": {
    "name": "ipython",
    "version": 3
   },
   "file_extension": ".py",
   "mimetype": "text/x-python",
   "name": "python",
   "nbconvert_exporter": "python",
   "pygments_lexer": "ipython3",
   "version": "3.10.9"
  },
  "orig_nbformat": 4,
  "vscode": {
   "interpreter": {
    "hash": "01b93577e2070d6598d3132bb9300122867d143464783cfacb9858457d6de70c"
   }
  }
 },
 "nbformat": 4,
 "nbformat_minor": 2
}
