{
 "cells": [
  {
   "cell_type": "code",
   "execution_count": null,
   "metadata": {},
   "outputs": [],
   "source": [
    "import src.data.ingestion as ingestion\n",
    "import src.features.csv_engineering as csv_engineering"
   ]
  },
  {
   "cell_type": "code",
   "execution_count": null,
   "metadata": {},
   "outputs": [],
   "source": [
    "df = ingestion.read_csv(\"Target_and_input.csv\")\n",
    "df = ingestion.delete_broken_rows(df)\n",
    "\n",
    "\n",
    "df = csv_engineering."
   ]
  }
 ],
 "metadata": {
  "kernelspec": {
   "display_name": "Python 3.10.4 ('mi4')",
   "language": "python",
   "name": "python3"
  },
  "language_info": {
   "name": "python",
   "version": "3.10.4"
  },
  "orig_nbformat": 4,
  "vscode": {
   "interpreter": {
    "hash": "7dcf6f0f3d6451fd6b65c3a3dbdc0d32837fa77437fab6896a02635117e29a5f"
   }
  }
 },
 "nbformat": 4,
 "nbformat_minor": 2
}
