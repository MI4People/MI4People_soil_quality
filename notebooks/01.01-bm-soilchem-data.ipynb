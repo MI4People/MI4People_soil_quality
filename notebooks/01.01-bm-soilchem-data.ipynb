{
 "cells": [
  {
   "cell_type": "markdown",
   "metadata": {},
   "source": [
    "# Raw soilchem data\n",
    "\n",
    "## Data generation\n",
    "\n",
    "For this project we focus on Africa and create a subset of the ESS soilchem data from [Compiled ESS point data sets](https://gitlab.com/openlandmap/compiled-ess-point-data-sets/#soil-properties-and-classes).\n",
    "\n",
    "Data collection and subset creation is implemented in \n",
    "*src/data/make_raw_dataset_africa_subset_of_soilchem_data.py*\n",
    "\n",
    "Input data / dependencies:\n",
    "* https://gitlab.com/openlandmap/compiled-ess-point-data-sets/-/raw/master/out/gpkg/sol_chem.pnts_horizons.gpkg?inline=false\n",
    "* https://geodata.ucdavis.edu/gadm/gadm4.1/gadm_410-levels.zip\n",
    "* `gpd.datasets.get_path(\"naturalearth_lowres\")`\n",
    "\n",
    "Output data:\n",
    "* *data/raw/aux/gadm_410-levels.zip*\n",
    "* *data/raw/target/sol_chem.pnts_horizons.gpkg*\n",
    "* *data/*\n",
    "* *data/intermediate/aux/gadm_410-levels_africa.gpkg*\n",
    "* *data/intermediate/target/sol_chem_pnts_horizons_africa.gpkg*\n",
    "\n",
    "## Read soilchem data with intake catalog"
   ]
  },
  {
   "cell_type": "markdown",
   "metadata": {},
   "source": [
    "## Read soilchem data "
   ]
  },
  {
   "cell_type": "code",
   "execution_count": 19,
   "metadata": {},
   "outputs": [
    {
     "data": {
      "application/yaml": "__:\n  args:\n    path: ../../catalog.yaml\n  description: ''\n  driver: intake.catalog.local.YAMLFileCatalog\n  metadata:\n    description: MI4People_soil_quality catalog\n    name: MI4People_soil_quality catalog\n    version: 1\n",
      "text/plain": [
       "__:\n",
       "  args:\n",
       "    path: ../../catalog.yaml\n",
       "  description: ''\n",
       "  driver: intake.catalog.local.YAMLFileCatalog\n",
       "  metadata:\n",
       "    description: MI4People_soil_quality catalog\n",
       "    name: MI4People_soil_quality catalog\n",
       "    version: 1\n"
      ]
     },
     "metadata": {
      "application/json": {
       "root": "__"
      }
     },
     "output_type": "display_data"
    }
   ],
   "source": [
    "from intake import open_catalog\n",
    "\n",
    "cat = open_catalog(\"../../catalog.yaml\")\n",
    "cat"
   ]
  },
  {
   "cell_type": "code",
   "execution_count": 1,
   "metadata": {},
   "outputs": [
    {
     "ename": "NameError",
     "evalue": "name 'cat' is not defined",
     "output_type": "error",
     "traceback": [
      "\u001b[0;31m---------------------------------------------------------------------------\u001b[0m",
      "\u001b[0;31mNameError\u001b[0m                                 Traceback (most recent call last)",
      "\u001b[1;32m/mnt/c/Users/ben8m/win_dev/MI4People_soil_quality/notebooks/raw/01-bm-raw-soilchem-data.ipynb Cell 4\u001b[0m in \u001b[0;36m<cell line: 1>\u001b[0;34m()\u001b[0m\n\u001b[0;32m----> <a href='vscode-notebook-cell://wsl%2Bubuntu-20.04/mnt/c/Users/ben8m/win_dev/MI4People_soil_quality/notebooks/raw/01-bm-raw-soilchem-data.ipynb#W3sdnNjb2RlLXJlbW90ZQ%3D%3D?line=0'>1</a>\u001b[0m soilchem_africa \u001b[39m=\u001b[39m cat\u001b[39m.\u001b[39msoilchem_africa\u001b[39m.\u001b[39mread()\n\u001b[1;32m      <a href='vscode-notebook-cell://wsl%2Bubuntu-20.04/mnt/c/Users/ben8m/win_dev/MI4People_soil_quality/notebooks/raw/01-bm-raw-soilchem-data.ipynb#W3sdnNjb2RlLXJlbW90ZQ%3D%3D?line=1'>2</a>\u001b[0m \u001b[39mprint\u001b[39m(soilchem_africa\u001b[39m.\u001b[39mshape)\n\u001b[1;32m      <a href='vscode-notebook-cell://wsl%2Bubuntu-20.04/mnt/c/Users/ben8m/win_dev/MI4People_soil_quality/notebooks/raw/01-bm-raw-soilchem-data.ipynb#W3sdnNjb2RlLXJlbW90ZQ%3D%3D?line=2'>3</a>\u001b[0m soilchem_africa\u001b[39m.\u001b[39mhead()\n",
      "\u001b[0;31mNameError\u001b[0m: name 'cat' is not defined"
     ]
    }
   ],
   "source": [
    "soilchem_africa = cat.soilchem_africa.read()\n",
    "print(soilchem_africa.shape)\n",
    "soilchem_africa.head()"
   ]
  },
  {
   "cell_type": "markdown",
   "metadata": {},
   "source": [
    "Find unique columns in the dataset "
   ]
  },
  {
   "cell_type": "code",
   "execution_count": 31,
   "metadata": {},
   "outputs": [
    {
     "data": {
      "text/html": [
       "<div>\n",
       "<style scoped>\n",
       "    .dataframe tbody tr th:only-of-type {\n",
       "        vertical-align: middle;\n",
       "    }\n",
       "\n",
       "    .dataframe tbody tr th {\n",
       "        vertical-align: top;\n",
       "    }\n",
       "\n",
       "    .dataframe thead th {\n",
       "        text-align: right;\n",
       "    }\n",
       "</style>\n",
       "<table border=\"1\" class=\"dataframe\">\n",
       "  <thead>\n",
       "    <tr style=\"text-align: right;\">\n",
       "      <th></th>\n",
       "      <th>olc_id</th>\n",
       "      <th>geometry</th>\n",
       "    </tr>\n",
       "  </thead>\n",
       "  <tbody>\n",
       "    <tr>\n",
       "      <th>0</th>\n",
       "      <td>6G5RWC6P+G95</td>\n",
       "      <td>POINT (36.43598 -6.08875)</td>\n",
       "    </tr>\n",
       "    <tr>\n",
       "      <th>1</th>\n",
       "      <td>6G5RWFV5+P35</td>\n",
       "      <td>POINT (36.45772 -6.05575)</td>\n",
       "    </tr>\n",
       "    <tr>\n",
       "      <th>2</th>\n",
       "      <td>6G6VMF6V+789</td>\n",
       "      <td>POINT (37.49335 -5.33934)</td>\n",
       "    </tr>\n",
       "    <tr>\n",
       "      <th>3</th>\n",
       "      <td>6G6VMG88+G48</td>\n",
       "      <td>POINT (37.51533 -5.33370)</td>\n",
       "    </tr>\n",
       "    <tr>\n",
       "      <th>4</th>\n",
       "      <td>5GWQW57R+5P3</td>\n",
       "      <td>POINT (35.19180 -11.08710)</td>\n",
       "    </tr>\n",
       "  </tbody>\n",
       "</table>\n",
       "</div>"
      ],
      "text/plain": [
       "         olc_id                    geometry\n",
       "0  6G5RWC6P+G95   POINT (36.43598 -6.08875)\n",
       "1  6G5RWFV5+P35   POINT (36.45772 -6.05575)\n",
       "2  6G6VMF6V+789   POINT (37.49335 -5.33934)\n",
       "3  6G6VMG88+G48   POINT (37.51533 -5.33370)\n",
       "4  5GWQW57R+5P3  POINT (35.19180 -11.08710)"
      ]
     },
     "execution_count": 31,
     "metadata": {},
     "output_type": "execute_result"
    }
   ],
   "source": [
    "# assert soilchem_africa[\"olc_id\"].is_unique\n",
    "unique_columns_bool = soilchem_africa.apply(lambda x: x.is_unique, axis=0)\n",
    "soilchem_africa.loc[:, unique_columns_bool].head()"
   ]
  }
 ],
 "metadata": {
  "kernelspec": {
   "display_name": "Python 3.9.13 ('soil')",
   "language": "python",
   "name": "python3"
  },
  "language_info": {
   "codemirror_mode": {
    "name": "ipython",
    "version": 3
   },
   "file_extension": ".py",
   "mimetype": "text/x-python",
   "name": "python",
   "nbconvert_exporter": "python",
   "pygments_lexer": "ipython3",
   "version": "3.9.13"
  },
  "orig_nbformat": 4,
  "vscode": {
   "interpreter": {
    "hash": "7dfde7ffb8cc271ea9823be8021478354947e19b44f907de313a9eaf853234e8"
   }
  }
 },
 "nbformat": 4,
 "nbformat_minor": 2
}
