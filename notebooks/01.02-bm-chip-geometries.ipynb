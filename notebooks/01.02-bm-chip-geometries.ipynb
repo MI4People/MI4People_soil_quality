{
 "cells": [
  {
   "cell_type": "markdown",
   "metadata": {},
   "source": [
    "# Generate chips aligned with Sentinel 2 pixels\n",
    "\n",
    "## Data generation\n",
    "\n",
    "Steps:\n",
    "\n",
    "* Read point coordinates in GeoDataFrame.\n",
    "* Run `geoimgchips.s2_raster_aligned_chips_from_points` with GeoDataFrame and a buffer in [m]. Steps:\n",
    "  * Derive UTM zone, EPSG number and coordinates from lat/lon coordinates\n",
    "    ([Sentinel-2 UTM Tiling Grid (ESA)](https://eatlas.org.au/data/uuid/f7468d15-12be-4e3f-a246-b2882a324f59))\n",
    "  * Create polygons around the points with the given buffer\n",
    "  * Grow polygon to aligned with closest 10m, 20m or 60m Sentinel-2 pixel borders\n",
    "  * Return GeoDataFrame witch chip polygons and utm information\n",
    "* Write chips to file.\n",
    "\n",
    "Requires https://github.com/benmack/geoimgchips. \n",
    "\n",
    "The code is an adjusted version of the tutorial https://github.com/benmack/geoimgchips/blob/main/notebooks/01_create_chip_geometries_aligned_with_sentinel2_pixels.ipynb\n",
    "\n",
    "Input data / dependencies:\n",
    "* *data/intermediate/target/sol_chem_pnts_horizons_africa.gpkg*\n",
    "\n",
    "Output data:\n",
    "* *data/intermediate/target/sol_chem_pnts_horizons_africa_chip_geometries.gpkg*\n",
    "\n",
    "## Read soilchem data with intake catalog"
   ]
  },
  {
   "cell_type": "code",
   "execution_count": 3,
   "metadata": {},
   "outputs": [
    {
     "data": {
      "application/yaml": "__:\n  args:\n    path: ../../catalog.yaml\n  description: ''\n  driver: intake.catalog.local.YAMLFileCatalog\n  metadata:\n    description: MI4People_soil_quality catalog\n    name: MI4People_soil_quality catalog\n    version: 1\n",
      "text/plain": [
       "__:\n",
       "  args:\n",
       "    path: ../../catalog.yaml\n",
       "  description: ''\n",
       "  driver: intake.catalog.local.YAMLFileCatalog\n",
       "  metadata:\n",
       "    description: MI4People_soil_quality catalog\n",
       "    name: MI4People_soil_quality catalog\n",
       "    version: 1\n"
      ]
     },
     "metadata": {
      "application/json": {
       "root": "__"
      }
     },
     "output_type": "display_data"
    }
   ],
   "source": [
    "from intake import open_catalog\n",
    "\n",
    "cat = open_catalog(\"../../catalog.yaml\")\n",
    "cat"
   ]
  },
  {
   "cell_type": "code",
   "execution_count": 4,
   "metadata": {},
   "outputs": [
    {
     "name": "stdout",
     "output_type": "stream",
     "text": [
      "(29927, 14)\n"
     ]
    },
    {
     "data": {
      "text/html": [
       "<div>\n",
       "<style scoped>\n",
       "    .dataframe tbody tr th:only-of-type {\n",
       "        vertical-align: middle;\n",
       "    }\n",
       "\n",
       "    .dataframe tbody tr th {\n",
       "        vertical-align: top;\n",
       "    }\n",
       "\n",
       "    .dataframe thead th {\n",
       "        text-align: right;\n",
       "    }\n",
       "</style>\n",
       "<table border=\"1\" class=\"dataframe\">\n",
       "  <thead>\n",
       "    <tr style=\"text-align: right;\">\n",
       "      <th></th>\n",
       "      <th>olc_id</th>\n",
       "      <th>latitude</th>\n",
       "      <th>longitude</th>\n",
       "      <th>chip_id</th>\n",
       "      <th>easting</th>\n",
       "      <th>northing</th>\n",
       "      <th>zone_number</th>\n",
       "      <th>zone_letter</th>\n",
       "      <th>epsg</th>\n",
       "      <th>minx</th>\n",
       "      <th>miny</th>\n",
       "      <th>maxx</th>\n",
       "      <th>maxy</th>\n",
       "      <th>geometry</th>\n",
       "    </tr>\n",
       "  </thead>\n",
       "  <tbody>\n",
       "    <tr>\n",
       "      <th>0</th>\n",
       "      <td>7C28GHFX+PFH</td>\n",
       "      <td>10.524305</td>\n",
       "      <td>-13.401268</td>\n",
       "      <td>22015</td>\n",
       "      <td>674946.973255</td>\n",
       "      <td>1.163828e+06</td>\n",
       "      <td>28</td>\n",
       "      <td>P</td>\n",
       "      <td>32628</td>\n",
       "      <td>674300.0</td>\n",
       "      <td>1163180.0</td>\n",
       "      <td>675590.0</td>\n",
       "      <td>1164470.0</td>\n",
       "      <td>POLYGON ((-13.40721 10.51847, -13.40715 10.530...</td>\n",
       "    </tr>\n",
       "    <tr>\n",
       "      <th>1</th>\n",
       "      <td>7C28GJC9+GVX</td>\n",
       "      <td>10.521368</td>\n",
       "      <td>-13.380262</td>\n",
       "      <td>22016</td>\n",
       "      <td>677247.951927</td>\n",
       "      <td>1.163515e+06</td>\n",
       "      <td>28</td>\n",
       "      <td>P</td>\n",
       "      <td>32628</td>\n",
       "      <td>676600.0</td>\n",
       "      <td>1162870.0</td>\n",
       "      <td>677890.0</td>\n",
       "      <td>1164160.0</td>\n",
       "      <td>POLYGON ((-13.38621 10.51556, -13.38615 10.527...</td>\n",
       "    </tr>\n",
       "    <tr>\n",
       "      <th>2</th>\n",
       "      <td>7C38WVH8+7FR</td>\n",
       "      <td>11.928245</td>\n",
       "      <td>-13.133870</td>\n",
       "      <td>22017</td>\n",
       "      <td>703231.871363</td>\n",
       "      <td>1.319303e+06</td>\n",
       "      <td>28</td>\n",
       "      <td>P</td>\n",
       "      <td>32628</td>\n",
       "      <td>702590.0</td>\n",
       "      <td>1318660.0</td>\n",
       "      <td>703880.0</td>\n",
       "      <td>1319950.0</td>\n",
       "      <td>POLYGON ((-13.13980 11.92247, -13.13972 11.934...</td>\n",
       "    </tr>\n",
       "    <tr>\n",
       "      <th>3</th>\n",
       "      <td>7C38WVHV+74J</td>\n",
       "      <td>11.928223</td>\n",
       "      <td>-13.107235</td>\n",
       "      <td>22018</td>\n",
       "      <td>706133.551453</td>\n",
       "      <td>1.319321e+06</td>\n",
       "      <td>28</td>\n",
       "      <td>P</td>\n",
       "      <td>32628</td>\n",
       "      <td>705490.0</td>\n",
       "      <td>1318680.0</td>\n",
       "      <td>706780.0</td>\n",
       "      <td>1319970.0</td>\n",
       "      <td>POLYGON ((-13.11318 11.92247, -13.11310 11.934...</td>\n",
       "    </tr>\n",
       "    <tr>\n",
       "      <th>4</th>\n",
       "      <td>7C28FHCG+R93</td>\n",
       "      <td>10.472017</td>\n",
       "      <td>-13.424075</td>\n",
       "      <td>22019</td>\n",
       "      <td>672479.666714</td>\n",
       "      <td>1.158032e+06</td>\n",
       "      <td>28</td>\n",
       "      <td>P</td>\n",
       "      <td>32628</td>\n",
       "      <td>671830.0</td>\n",
       "      <td>1157390.0</td>\n",
       "      <td>673120.0</td>\n",
       "      <td>1158680.0</td>\n",
       "      <td>POLYGON ((-13.43004 10.46624, -13.42998 10.477...</td>\n",
       "    </tr>\n",
       "  </tbody>\n",
       "</table>\n",
       "</div>"
      ],
      "text/plain": [
       "         olc_id   latitude  longitude  chip_id        easting      northing  \\\n",
       "0  7C28GHFX+PFH  10.524305 -13.401268    22015  674946.973255  1.163828e+06   \n",
       "1  7C28GJC9+GVX  10.521368 -13.380262    22016  677247.951927  1.163515e+06   \n",
       "2  7C38WVH8+7FR  11.928245 -13.133870    22017  703231.871363  1.319303e+06   \n",
       "3  7C38WVHV+74J  11.928223 -13.107235    22018  706133.551453  1.319321e+06   \n",
       "4  7C28FHCG+R93  10.472017 -13.424075    22019  672479.666714  1.158032e+06   \n",
       "\n",
       "   zone_number zone_letter   epsg      minx       miny      maxx       maxy  \\\n",
       "0           28           P  32628  674300.0  1163180.0  675590.0  1164470.0   \n",
       "1           28           P  32628  676600.0  1162870.0  677890.0  1164160.0   \n",
       "2           28           P  32628  702590.0  1318660.0  703880.0  1319950.0   \n",
       "3           28           P  32628  705490.0  1318680.0  706780.0  1319970.0   \n",
       "4           28           P  32628  671830.0  1157390.0  673120.0  1158680.0   \n",
       "\n",
       "                                            geometry  \n",
       "0  POLYGON ((-13.40721 10.51847, -13.40715 10.530...  \n",
       "1  POLYGON ((-13.38621 10.51556, -13.38615 10.527...  \n",
       "2  POLYGON ((-13.13980 11.92247, -13.13972 11.934...  \n",
       "3  POLYGON ((-13.11318 11.92247, -13.11310 11.934...  \n",
       "4  POLYGON ((-13.43004 10.46624, -13.42998 10.477...  "
      ]
     },
     "execution_count": 4,
     "metadata": {},
     "output_type": "execute_result"
    }
   ],
   "source": [
    "soilchem_africa_chip_geometries = cat.soilchem_africa_chip_geometries.read()\n",
    "print(soilchem_africa_chip_geometries.shape)\n",
    "soilchem_africa_chip_geometries.head()"
   ]
  }
 ],
 "metadata": {
  "kernelspec": {
   "display_name": "Python 3.9.13 ('soil')",
   "language": "python",
   "name": "python3"
  },
  "language_info": {
   "codemirror_mode": {
    "name": "ipython",
    "version": 3
   },
   "file_extension": ".py",
   "mimetype": "text/x-python",
   "name": "python",
   "nbconvert_exporter": "python",
   "pygments_lexer": "ipython3",
   "version": "3.9.13"
  },
  "orig_nbformat": 4,
  "vscode": {
   "interpreter": {
    "hash": "7dfde7ffb8cc271ea9823be8021478354947e19b44f907de313a9eaf853234e8"
   }
  }
 },
 "nbformat": 4,
 "nbformat_minor": 2
}
