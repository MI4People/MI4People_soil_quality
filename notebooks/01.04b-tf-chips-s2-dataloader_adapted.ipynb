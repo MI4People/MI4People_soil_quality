{
 "cells": [
  {
   "cell_type": "code",
   "execution_count": 2,
   "metadata": {},
   "outputs": [],
   "source": [
    "import os\n",
    "import sys\n",
    "module_path = os.path.abspath(os.path.join('..'))\n",
    "if module_path not in sys.path:\n",
    "    sys.path.append(module_path)\n",
    "from IPython.display import Image, display\n",
    "import matplotlib.pyplot as plt\n",
    "import pandas as pd\n",
    "#import seaborn as sns\n",
    "import cv2\n",
    "import numpy as np\n",
    "import torchdata.datapipes as dp\n",
    "#import boto3\n",
    "#import skimage\n",
    "import PIL.Image\n",
    "import json\n",
    "import fsspec\n",
    "from src.globals import DATA_DIR #, LABELS_TO_INDS\n",
    "from pathlib import Path"
   ]
  },
  {
   "attachments": {},
   "cell_type": "markdown",
   "metadata": {},
   "source": [
    "## Imported functions"
   ]
  },
  {
   "cell_type": "code",
   "execution_count": 3,
   "metadata": {},
   "outputs": [
    {
     "ename": "TypeError",
     "evalue": "'type' object is not subscriptable",
     "output_type": "error",
     "traceback": [
      "\u001b[1;31m---------------------------------------------------------------------------\u001b[0m",
      "\u001b[1;31mTypeError\u001b[0m                                 Traceback (most recent call last)",
      "\u001b[1;32m~\\AppData\\Local\\Temp\\ipykernel_21480\\581012716.py\u001b[0m in \u001b[0;36m<module>\u001b[1;34m\u001b[0m\n\u001b[0;32m      9\u001b[0m \u001b[1;33m\u001b[0m\u001b[0m\n\u001b[0;32m     10\u001b[0m \u001b[1;33m\u001b[0m\u001b[0m\n\u001b[1;32m---> 11\u001b[1;33m \u001b[1;32mdef\u001b[0m \u001b[0mcombine_bands\u001b[0m\u001b[1;33m(\u001b[0m\u001b[0marrays\u001b[0m\u001b[1;33m:\u001b[0m \u001b[0mlist\u001b[0m\u001b[1;33m[\u001b[0m\u001b[0mnp\u001b[0m\u001b[1;33m.\u001b[0m\u001b[0marray\u001b[0m\u001b[1;33m]\u001b[0m\u001b[1;33m,\u001b[0m \u001b[0mmax_res\u001b[0m\u001b[1;33m=\u001b[0m\u001b[1;33m(\u001b[0m\u001b[1;36m120\u001b[0m\u001b[1;33m,\u001b[0m \u001b[1;36m120\u001b[0m\u001b[1;33m)\u001b[0m\u001b[1;33m)\u001b[0m\u001b[1;33m:\u001b[0m\u001b[1;33m\u001b[0m\u001b[1;33m\u001b[0m\u001b[0m\n\u001b[0m\u001b[0;32m     12\u001b[0m     \"\"\"Combines bands into one array, upscaling each band to max_res.\n\u001b[0;32m     13\u001b[0m \u001b[1;33m\u001b[0m\u001b[0m\n",
      "\u001b[1;31mTypeError\u001b[0m: 'type' object is not subscriptable"
     ]
    }
   ],
   "source": [
    "def download_from_s3(bucket: str, remote_path: str, local_path: str, s3_client=None):\n",
    "    if not s3_client:\n",
    "        s3_client = boto3.client(\"s3\")\n",
    "    s3_client.download_file(bucket, remote_path, local_path)\n",
    "\n",
    "\n",
    "def split_bucket_from_path(x: str):\n",
    "    return \"\".join(x.split(\"/\")[2:3]), \"/\".join(x.split(\"/\")[3:])\n",
    "\n",
    "\n",
    "def combine_bands(arrays: list[np.array], max_res=(120, 120)):\n",
    "    \"\"\"Combines bands into one array, upscaling each band to max_res.\n",
    "\n",
    "    Args:\n",
    "        arrays (list): list of bands\n",
    "        max_res (tuple, optional): Max height & width to resize bands to. Defaults to (120, 120).\n",
    "\n",
    "    Returns:\n",
    "        np.array: Concatenated & resized bands.\n",
    "    \"\"\"\n",
    "    result = np.zeros(shape=(*max_res, len(arrays)))\n",
    "    for i, array in enumerate(arrays):\n",
    "        assert array.shape[0] <= max_res[0]\n",
    "        assert array.shape[1] <= max_res[1]\n",
    "        result[:, :, i] = cv2.resize(array, dsize=max_res)\n",
    "    return result\n",
    "\n",
    "\n",
    "def get_first_n_pcs(img: np.array, num_components: int):\n",
    "    \"\"\"Perform PCA on a single image and return principle components which make up the most variance.\n",
    "\n",
    "    Args:\n",
    "        img (np.array): Original image of shape (h, w, num_bands).\n",
    "        num_components (int): Desired number of components to be returned.\n",
    "\n",
    "    Returns:\n",
    "        np.array: Components with shape (h, w, num_components).\n",
    "    \"\"\"\n",
    "    # Convert 2d bands into 1-d arrays\n",
    "    bands_vectorized = np.zeros(shape=(img.shape[0] * img.shape[1], img.shape[2]))\n",
    "    for i in range(img.shape[-1]):\n",
    "        flattened_band = img[:, :, i].flatten()\n",
    "        flattened_band_standard = (\n",
    "            flattened_band - flattened_band.mean()\n",
    "        ) / flattened_band.std()\n",
    "        bands_vectorized[:, i] = flattened_band_standard\n",
    "\n",
    "    cov = np.cov(bands_vectorized.transpose())\n",
    "    eig_val, eig_vec = np.linalg.eig(cov)\n",
    "\n",
    "    # Ordering Eigen values and vectors\n",
    "    order = eig_val.argsort()[::-1]\n",
    "    eig_val = eig_val[order]\n",
    "    eig_vec = eig_vec[:, order]\n",
    "\n",
    "    # Projecting data on Eigen vector directions resulting in Principal Components\n",
    "    pcs = np.matmul(bands_vectorized, eig_vec)\n",
    "\n",
    "    # Rearranging 1-d arrays to 2-d arrays of image size\n",
    "    PC_2d = np.zeros((num_components, img.shape[0], img.shape[1]))\n",
    "    for i in range(num_components):\n",
    "        PC_2d[i, :, :] = pcs[:, i].reshape(-1, img.shape[1])\n",
    "\n",
    "    # normalizing between 0 to 255\n",
    "    PC_2d_Norm = np.zeros((num_components, img.shape[0], img.shape[1]))\n",
    "    for i in range(num_components):\n",
    "        PC_2d_Norm[i, :, :] = cv2.normalize(\n",
    "            PC_2d[i, :, :], np.zeros(img.shape), 0, 255, cv2.NORM_MINMAX\n",
    "        )\n",
    "\n",
    "    return PC_2d_Norm[: num_components + 1, :, :]"
   ]
  }
 ],
 "metadata": {
  "kernelspec": {
   "display_name": "mi4people_soil_quality",
   "language": "python",
   "name": "mi4people_soil_quality"
  },
  "language_info": {
   "codemirror_mode": {
    "name": "ipython",
    "version": 3
   },
   "file_extension": ".py",
   "mimetype": "text/x-python",
   "name": "python",
   "nbconvert_exporter": "python",
   "pygments_lexer": "ipython3",
   "version": "3.7.13"
  },
  "orig_nbformat": 4
 },
 "nbformat": 4,
 "nbformat_minor": 2
}
