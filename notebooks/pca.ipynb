{
 "cells": [
  {
   "cell_type": "code",
   "execution_count": 102,
   "metadata": {},
   "outputs": [],
   "source": [
    "from IPython.display import Image, display\n",
    "import matplotlib.pyplot as plt\n",
    "import pandas as pd\n",
    "import seaborn as sns\n",
    "import cv2\n",
    "import numpy as np\n",
    "import torchdata.datapipes as dp\n",
    "import boto3\n",
    "import os\n",
    "import skimage\n",
    "import PIL.Image\n",
    "import json"
   ]
  },
  {
   "cell_type": "code",
   "execution_count": 2,
   "metadata": {},
   "outputs": [],
   "source": [
    "def download_from_s3(bucket: str, remote_path: str, local_path: str, s3_client=None):\n",
    "    if not s3_client:\n",
    "        s3_client = boto3.client(\"s3\")\n",
    "    s3_client.download_file(bucket, remote_path, local_path)\n",
    "\n",
    "\n",
    "def split_bucket_from_path(x: str):\n",
    "    return \"\".join(x.split(\"/\")[2:3]), \"/\".join(x.split(\"/\")[3:])\n",
    "\n",
    "\n",
    "def combine_bands(arrays: list[np.array], max_res=(120, 120)):\n",
    "    \"\"\"Combines bands into one array, upscaling each band to max_res.\n",
    "\n",
    "    Args:\n",
    "        arrays (list): list of bands\n",
    "        max_res (tuple, optional): Max height & width to resize bands to. Defaults to (120, 120).\n",
    "\n",
    "    Returns:\n",
    "        np.array: Concatenated & resized bands.\n",
    "    \"\"\"\n",
    "    result = np.zeros(shape=(*max_res, len(arrays)))\n",
    "    for i, array in enumerate(arrays):\n",
    "        assert array.shape[0] <= max_res[0]\n",
    "        assert array.shape[1] <= max_res[1]\n",
    "        result[:, :, i] = cv2.resize(array, dsize=max_res)\n",
    "    return result"
   ]
  },
  {
   "cell_type": "code",
   "execution_count": 3,
   "metadata": {},
   "outputs": [],
   "source": [
    "folder = \"S2A_MSIL2A_20170613T101031_14_65/\"\n",
    "bucketname = f\"s3://mi4people-soil-project/BigEarthNet-v1.0/{folder}\"\n",
    "pipe = dp.iter.IterableWrapper([bucketname])\n",
    "pipe = pipe.list_files_by_fsspec()"
   ]
  },
  {
   "cell_type": "code",
   "execution_count": 4,
   "metadata": {},
   "outputs": [],
   "source": [
    "tifs = [x for x in pipe if \".tif\" in x]\n",
    "for tif in tifs:\n",
    "    bucket, remote = split_bucket_from_path(tif)\n",
    "    file = tif.split(\"/\")[-1]\n",
    "    if not os.path.isdir(\n",
    "        f\"/home/philip/Projects/MI4People/MI4People_soil_quality/data/raw/bigearth_data/{folder}\"\n",
    "    ):\n",
    "        os.mkdir(\n",
    "            f\"/home/philip/Projects/MI4People/MI4People_soil_quality/data/raw/bigearth_data/{folder}\"\n",
    "        )\n",
    "    local = (\n",
    "        f\"/home/philip/Projects/MI4People/MI4People_soil_quality/data/raw/bigearth_data/{folder}\"\n",
    "        + file\n",
    "    )\n",
    "    download_from_s3(bucket=bucket, remote_path=remote, local_path=local)"
   ]
  },
  {
   "cell_type": "code",
   "execution_count": 5,
   "metadata": {},
   "outputs": [],
   "source": [
    "tif_dir = f\"/home/philip/Projects/MI4People/MI4People_soil_quality/data/raw/bigearth_data/{folder}\"\n",
    "local_tifs = [os.path.join(tif_dir, x) for x in os.listdir(tif_dir)]\n",
    "imgs = [skimage.io.imread(path) for path in local_tifs]\n",
    "bands = [tif.split(\"_\")[-1].split(\".\")[0] for tif in local_tifs]\n",
    "resized = combine_bands(imgs)"
   ]
  },
  {
   "cell_type": "code",
   "execution_count": 104,
   "metadata": {},
   "outputs": [
    {
     "name": "stderr",
     "output_type": "stream",
     "text": [
      "/home/philip/miniconda3/envs/mi4p/lib/python3.10/site-packages/torch/utils/data/datapipes/utils/common.py:143: UserWarning: Lambda function is not supported by pickle, please use regular python function or functools.partial instead.\n",
      "  warnings.warn(\n"
     ]
    },
    {
     "name": "stdout",
     "output_type": "stream",
     "text": [
      "[['Land principally occupied by agriculture, with significant areas of natural vegetation', 'Coniferous forest', 'Mixed forest', 'Sea and ocean']]\n"
     ]
    }
   ],
   "source": [
    "img_pipe = dp.iter.IterableWrapper(\n",
    "    [f\"s3://mi4people-soil-project/BigEarthNet-v1.0/{folder}\"]\n",
    ")\n",
    "img_pipe = img_pipe.list_files_by_fsspec()\n",
    "img_pipe = img_pipe.filter(filter_fn=lambda x: x.endswith(\".tif\"))\n",
    "img_pipe = img_pipe.open_files_by_fsspec(mode=\"rb\")\n",
    "img_pipe = img_pipe.map(lambda x: PIL.Image.open(x[1]))\n",
    "\n",
    "gt_pipe = dp.iter.IterableWrapper(\n",
    "    [f\"s3://mi4people-soil-project/BigEarthNet-v1.0/{folder}\"]\n",
    ")\n",
    "gt_pipe = gt_pipe.list_files_by_fsspec()\n",
    "gt_pipe = gt_pipe.filter(filter_fn=lambda x: x.endswith(\".json\"))\n",
    "gt_pipe = gt_pipe.open_files_by_fsspec()\n",
    "gt_pipe = gt_pipe.map(lambda x: json.loads(x[1].read())[\"labels\"])\n",
    "\n",
    "\n",
    "gt_list = [x for x in gt_pipe]\n",
    "print(gt_list)\n",
    "img_list = [x for x in img_pipe]"
   ]
  },
  {
   "cell_type": "code",
   "execution_count": 85,
   "metadata": {},
   "outputs": [
    {
     "data": {
      "image/png": "[encoded data removed]",
      "text/plain": [
       "<PIL.Image.Image image mode=L size=120x120>"
      ]
     },
     "metadata": {},
     "output_type": "display_data"
    }
   ],
   "source": [
    "np.array(img_list[1]).shape\n",
    "img_list[1].show()"
   ]
  },
  {
   "cell_type": "code",
   "execution_count": 27,
   "metadata": {},
   "outputs": [],
   "source": [
    "def get_first_n_pcs(img: np.array, num_components: int):\n",
    "    \"\"\"Perform PCA on a single image and return principle components which make up the most variance.\n",
    "\n",
    "    Args:\n",
    "        img (np.array): Original image of shape (h, w, num_bands).\n",
    "        num_components (int): Desired number of components to be returned.\n",
    "\n",
    "    Returns:\n",
    "        np.array: Components with shape (h, w, num_components).\n",
    "    \"\"\"\n",
    "    # Convert 2d bands into 1-d arrays\n",
    "    bands_vectorized = np.zeros(\n",
    "        shape=(resized.shape[0] * resized.shape[1], resized.shape[2])\n",
    "    )\n",
    "    for i in range(img.shape[-1]):\n",
    "        flattened_band = img[:, :, i].flatten()\n",
    "        flattened_band_standard = (\n",
    "            flattened_band - flattened_band.mean()\n",
    "        ) / flattened_band.std()\n",
    "        bands_vectorized[:, i] = flattened_band_standard\n",
    "\n",
    "    cov = np.cov(bands_vectorized.transpose())\n",
    "    eig_val, eig_vec = np.linalg.eig(cov)\n",
    "\n",
    "    # Ordering Eigen values and vectors\n",
    "    order = eig_val.argsort()[::-1]\n",
    "    eig_val = eig_val[order]\n",
    "    eig_vec = eig_vec[:, order]\n",
    "\n",
    "    # Projecting data on Eigen vector directions resulting in Principal Components\n",
    "    pcs = np.matmul(bands_vectorized, eig_vec)\n",
    "\n",
    "    # Rearranging 1-d arrays to 2-d arrays of image size\n",
    "    PC_2d = np.zeros((img.shape[0], img.shape[1], num_components))\n",
    "    for i in range(num_components):\n",
    "        PC_2d[:, :, i] = pcs[:, i].reshape(-1, img.shape[1])\n",
    "\n",
    "    # normalizing between 0 to 255\n",
    "    PC_2d_Norm = np.zeros((img.shape[0], img.shape[1], num_components))\n",
    "    for i in range(num_components):\n",
    "        PC_2d_Norm[:, :, i] = cv2.normalize(\n",
    "            PC_2d[:, :, i], np.zeros(img.shape), 0, 255, cv2.NORM_MINMAX\n",
    "        )\n",
    "\n",
    "    # fig,axes = plt.subplots(3,4,figsize=(50,23),sharex='all',\n",
    "    #                         sharey='all')\n",
    "    # fig.subplots_adjust(wspace=0.1, hspace=0.15)\n",
    "    # fig.suptitle('Intensities of Principal Components ', fontsize=30)\n",
    "\n",
    "    # axes = axes.ravel()\n",
    "    # for i in range(num_components):\n",
    "    #     axes[i].imshow(PC_2d_Norm[:,:,i],cmap='gray', vmin=0, vmax=255)\n",
    "    #     axes[i].set_title('PC '+str(i+1),fontsize=25)\n",
    "    #     axes[i].axis('off')\n",
    "    # fig.delaxes(axes[-1])\n",
    "    return PC_2d_Norm[:, :, : num_components + 1]"
   ]
  },
  {
   "cell_type": "code",
   "execution_count": 28,
   "metadata": {},
   "outputs": [
    {
     "data": {
      "text/plain": [
       "(120, 120, 3)"
      ]
     },
     "execution_count": 28,
     "metadata": {},
     "output_type": "execute_result"
    }
   ],
   "source": [
    "get_first_n_pcs(resized, 3).shape"
   ]
  },
  {
   "cell_type": "code",
   "execution_count": null,
   "metadata": {},
   "outputs": [],
   "source": []
  }
 ],
 "metadata": {
  "kernelspec": {
   "display_name": "Python 3.10.8 ('mi4p')",
   "language": "python",
   "name": "python3"
  },
  "language_info": {
   "codemirror_mode": {
    "name": "ipython",
    "version": 3
   },
   "file_extension": ".py",
   "mimetype": "text/x-python",
   "name": "python",
   "nbconvert_exporter": "python",
   "pygments_lexer": "ipython3",
   "version": "3.10.8"
  },
  "orig_nbformat": 4,
  "vscode": {
   "interpreter": {
    "hash": "01214d19fcaa01196524860a75ee10e3cfd1c39141053fb11644c329d1a4985d"
   }
  }
 },
 "nbformat": 4,
 "nbformat_minor": 2
}
